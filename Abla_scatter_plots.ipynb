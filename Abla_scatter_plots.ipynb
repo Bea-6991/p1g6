{
 "cells": [
  {
   "cell_type": "code",
   "execution_count": 1,
   "metadata": {},
   "outputs": [],
   "source": [
    "# Dependencies and Setup\n",
    "import matplotlib.pyplot as plt\n",
    "import pandas as pd\n",
    "import numpy as np\n",
    "import requests\n",
    "import time\n",
    "import csv\n",
    "import sys\n",
    "import os\n",
    "from scipy.stats import linregress\n",
    "from pprint import pprint\n"
   ]
  },
  {
   "cell_type": "code",
   "execution_count": 2,
   "metadata": {},
   "outputs": [
    {
     "data": {
      "text/html": [
       "<div>\n",
       "<style scoped>\n",
       "    .dataframe tbody tr th:only-of-type {\n",
       "        vertical-align: middle;\n",
       "    }\n",
       "\n",
       "    .dataframe tbody tr th {\n",
       "        vertical-align: top;\n",
       "    }\n",
       "\n",
       "    .dataframe thead th {\n",
       "        text-align: right;\n",
       "    }\n",
       "</style>\n",
       "<table border=\"1\" class=\"dataframe\">\n",
       "  <thead>\n",
       "    <tr style=\"text-align: right;\">\n",
       "      <th></th>\n",
       "      <th>Title</th>\n",
       "      <th>Year</th>\n",
       "      <th>Rated</th>\n",
       "      <th>Released</th>\n",
       "      <th>Runtime</th>\n",
       "      <th>Genre</th>\n",
       "      <th>Language</th>\n",
       "      <th>Awards</th>\n",
       "      <th>imdbRating</th>\n",
       "      <th>imdbVotes</th>\n",
       "      <th>imdbID</th>\n",
       "      <th>Type</th>\n",
       "      <th>Production</th>\n",
       "      <th>Budget</th>\n",
       "      <th>Revenue</th>\n",
       "      <th>ROI%</th>\n",
       "    </tr>\n",
       "  </thead>\n",
       "  <tbody>\n",
       "    <tr>\n",
       "      <th>0</th>\n",
       "      <td>Vulgar</td>\n",
       "      <td>2000</td>\n",
       "      <td>R</td>\n",
       "      <td>26 Apr 2002</td>\n",
       "      <td>87</td>\n",
       "      <td>Crime, Drama, Thriller</td>\n",
       "      <td>English</td>\n",
       "      <td>NaN</td>\n",
       "      <td>5.3</td>\n",
       "      <td>3876</td>\n",
       "      <td>tt0120467</td>\n",
       "      <td>movie</td>\n",
       "      <td>Lions Gate Films</td>\n",
       "      <td>120000</td>\n",
       "      <td>14904</td>\n",
       "      <td>-87.58</td>\n",
       "    </tr>\n",
       "    <tr>\n",
       "      <th>1</th>\n",
       "      <td>Out of the Furnace</td>\n",
       "      <td>2013</td>\n",
       "      <td>R</td>\n",
       "      <td>06 Dec 2013</td>\n",
       "      <td>116</td>\n",
       "      <td>Action, Crime, Drama, Thriller</td>\n",
       "      <td>English</td>\n",
       "      <td>2 wins &amp; 9 nominations.</td>\n",
       "      <td>6.8</td>\n",
       "      <td>103339</td>\n",
       "      <td>tt1206543</td>\n",
       "      <td>movie</td>\n",
       "      <td>Relativity Media</td>\n",
       "      <td>22000000</td>\n",
       "      <td>15400000</td>\n",
       "      <td>-30.00</td>\n",
       "    </tr>\n",
       "    <tr>\n",
       "      <th>2</th>\n",
       "      <td>Coyote Ugly</td>\n",
       "      <td>2000</td>\n",
       "      <td>PG-13</td>\n",
       "      <td>04 Aug 2000</td>\n",
       "      <td>100</td>\n",
       "      <td>Comedy, Drama, Music, Romance</td>\n",
       "      <td>English</td>\n",
       "      <td>4 wins &amp; 8 nominations.</td>\n",
       "      <td>5.7</td>\n",
       "      <td>104644</td>\n",
       "      <td>tt0200550</td>\n",
       "      <td>movie</td>\n",
       "      <td>Buena Vista</td>\n",
       "      <td>45000000</td>\n",
       "      <td>113916474</td>\n",
       "      <td>153.15</td>\n",
       "    </tr>\n",
       "    <tr>\n",
       "      <th>3</th>\n",
       "      <td>Parental Guidance</td>\n",
       "      <td>2012</td>\n",
       "      <td>PG</td>\n",
       "      <td>25 Dec 2012</td>\n",
       "      <td>105</td>\n",
       "      <td>Comedy, Family</td>\n",
       "      <td>English</td>\n",
       "      <td>1 win &amp; 4 nominations.</td>\n",
       "      <td>6.0</td>\n",
       "      <td>24453</td>\n",
       "      <td>tt1047540</td>\n",
       "      <td>movie</td>\n",
       "      <td>20th Century Fox</td>\n",
       "      <td>25000000</td>\n",
       "      <td>119772232</td>\n",
       "      <td>379.09</td>\n",
       "    </tr>\n",
       "    <tr>\n",
       "      <th>4</th>\n",
       "      <td>Raising Helen</td>\n",
       "      <td>2004</td>\n",
       "      <td>PG-13</td>\n",
       "      <td>28 May 2004</td>\n",
       "      <td>119</td>\n",
       "      <td>Comedy, Drama, Romance</td>\n",
       "      <td>English</td>\n",
       "      <td>1 nomination.</td>\n",
       "      <td>6.0</td>\n",
       "      <td>34868</td>\n",
       "      <td>tt0350028</td>\n",
       "      <td>movie</td>\n",
       "      <td>Buena Vista Pictures</td>\n",
       "      <td>50000000</td>\n",
       "      <td>49718611</td>\n",
       "      <td>-0.56</td>\n",
       "    </tr>\n",
       "  </tbody>\n",
       "</table>\n",
       "</div>"
      ],
      "text/plain": [
       "                Title  Year  Rated     Released  Runtime  \\\n",
       "0              Vulgar  2000      R  26 Apr 2002       87   \n",
       "1  Out of the Furnace  2013      R  06 Dec 2013      116   \n",
       "2         Coyote Ugly  2000  PG-13  04 Aug 2000      100   \n",
       "3   Parental Guidance  2012     PG  25 Dec 2012      105   \n",
       "4       Raising Helen  2004  PG-13  28 May 2004      119   \n",
       "\n",
       "                            Genre Language                   Awards  \\\n",
       "0          Crime, Drama, Thriller  English                      NaN   \n",
       "1  Action, Crime, Drama, Thriller  English  2 wins & 9 nominations.   \n",
       "2   Comedy, Drama, Music, Romance  English  4 wins & 8 nominations.   \n",
       "3                  Comedy, Family  English   1 win & 4 nominations.   \n",
       "4          Comedy, Drama, Romance  English            1 nomination.   \n",
       "\n",
       "   imdbRating  imdbVotes     imdbID   Type            Production    Budget  \\\n",
       "0         5.3       3876  tt0120467  movie      Lions Gate Films    120000   \n",
       "1         6.8     103339  tt1206543  movie      Relativity Media  22000000   \n",
       "2         5.7     104644  tt0200550  movie           Buena Vista  45000000   \n",
       "3         6.0      24453  tt1047540  movie      20th Century Fox  25000000   \n",
       "4         6.0      34868  tt0350028  movie  Buena Vista Pictures  50000000   \n",
       "\n",
       "     Revenue    ROI%  \n",
       "0      14904  -87.58  \n",
       "1   15400000  -30.00  \n",
       "2  113916474  153.15  \n",
       "3  119772232  379.09  \n",
       "4   49718611   -0.56  "
      ]
     },
     "execution_count": 2,
     "metadata": {},
     "output_type": "execute_result"
    }
   ],
   "source": [
    "# The path to our CSV file\n",
    "file = \"data_files/good_merged_data.csv\"\n",
    "\n",
    "# Read our Movie data into pandas\n",
    "movie_df = pd.read_csv(file)\n",
    "movie_df.head()\n"
   ]
  },
  {
   "cell_type": "code",
   "execution_count": 3,
   "metadata": {},
   "outputs": [
    {
     "name": "stdout",
     "output_type": "stream",
     "text": [
      "<class 'pandas.core.frame.DataFrame'>\n",
      "RangeIndex: 586 entries, 0 to 585\n",
      "Data columns (total 16 columns):\n",
      " #   Column      Non-Null Count  Dtype  \n",
      "---  ------      --------------  -----  \n",
      " 0   Title       586 non-null    object \n",
      " 1   Year        586 non-null    int64  \n",
      " 2   Rated       580 non-null    object \n",
      " 3   Released    586 non-null    object \n",
      " 4   Runtime     586 non-null    int64  \n",
      " 5   Genre       586 non-null    object \n",
      " 6   Language    586 non-null    object \n",
      " 7   Awards      512 non-null    object \n",
      " 8   imdbRating  586 non-null    float64\n",
      " 9   imdbVotes   586 non-null    int64  \n",
      " 10  imdbID      586 non-null    object \n",
      " 11  Type        586 non-null    object \n",
      " 12  Production  586 non-null    object \n",
      " 13  Budget      586 non-null    int64  \n",
      " 14  Revenue     586 non-null    int64  \n",
      " 15  ROI%        586 non-null    float64\n",
      "dtypes: float64(2), int64(5), object(9)\n",
      "memory usage: 73.4+ KB\n"
     ]
    }
   ],
   "source": [
    "# Get general info \n",
    "movie_df.info()"
   ]
  },
  {
   "cell_type": "code",
   "execution_count": 4,
   "metadata": {},
   "outputs": [],
   "source": [
    "# Extract relevant fields from the data frame\n",
    "year = movie_df['Year']\n",
    "roi = movie_df['ROI%']\n",
    "rtime = movie_df['Runtime']\n",
    "bud = movie_df['Budget']\n",
    "rev =  movie_df['Revenue']"
   ]
  },
  {
   "cell_type": "code",
   "execution_count": 5,
   "metadata": {},
   "outputs": [
    {
     "data": {
      "text/html": [
       "<div>\n",
       "<style scoped>\n",
       "    .dataframe tbody tr th:only-of-type {\n",
       "        vertical-align: middle;\n",
       "    }\n",
       "\n",
       "    .dataframe tbody tr th {\n",
       "        vertical-align: top;\n",
       "    }\n",
       "\n",
       "    .dataframe thead th {\n",
       "        text-align: right;\n",
       "    }\n",
       "</style>\n",
       "<table border=\"1\" class=\"dataframe\">\n",
       "  <thead>\n",
       "    <tr style=\"text-align: right;\">\n",
       "      <th></th>\n",
       "      <th>Title</th>\n",
       "      <th>Year</th>\n",
       "      <th>Rated</th>\n",
       "      <th>Released</th>\n",
       "      <th>Runtime</th>\n",
       "      <th>Genre</th>\n",
       "      <th>Language</th>\n",
       "      <th>Awards</th>\n",
       "      <th>imdbRating</th>\n",
       "      <th>imdbVotes</th>\n",
       "      <th>imdbID</th>\n",
       "      <th>Type</th>\n",
       "      <th>Production</th>\n",
       "      <th>Budget</th>\n",
       "      <th>Revenue</th>\n",
       "      <th>ROI%</th>\n",
       "    </tr>\n",
       "  </thead>\n",
       "  <tbody>\n",
       "    <tr>\n",
       "      <th>492</th>\n",
       "      <td>The Lion King</td>\n",
       "      <td>2019</td>\n",
       "      <td>PG</td>\n",
       "      <td>19 Jul 2019</td>\n",
       "      <td>118</td>\n",
       "      <td>Animation, Adventure, Drama, Family, Musical</td>\n",
       "      <td>English, Xhosa, Zulu, French, Spanish</td>\n",
       "      <td>Nominated for 1 Oscar. Another 16 wins &amp; 34 no...</td>\n",
       "      <td>6.9</td>\n",
       "      <td>194149</td>\n",
       "      <td>tt6105098</td>\n",
       "      <td>movie</td>\n",
       "      <td>Walt Disney Pictures</td>\n",
       "      <td>260000000</td>\n",
       "      <td>1656943394</td>\n",
       "      <td>537.29</td>\n",
       "    </tr>\n",
       "    <tr>\n",
       "      <th>160</th>\n",
       "      <td>Harry Potter and the Half-Blood Prince</td>\n",
       "      <td>2009</td>\n",
       "      <td>PG</td>\n",
       "      <td>15 Jul 2009</td>\n",
       "      <td>153</td>\n",
       "      <td>Action, Adventure, Family, Fantasy, Mystery</td>\n",
       "      <td>English</td>\n",
       "      <td>Nominated for 1 Oscar. Another 8 wins &amp; 35 nom...</td>\n",
       "      <td>7.6</td>\n",
       "      <td>453636</td>\n",
       "      <td>tt0417741</td>\n",
       "      <td>movie</td>\n",
       "      <td>Warner Bros. Pictures</td>\n",
       "      <td>250000000</td>\n",
       "      <td>933959197</td>\n",
       "      <td>273.58</td>\n",
       "    </tr>\n",
       "    <tr>\n",
       "      <th>188</th>\n",
       "      <td>The Hobbit: The Desolation of Smaug</td>\n",
       "      <td>2013</td>\n",
       "      <td>PG-13</td>\n",
       "      <td>13 Dec 2013</td>\n",
       "      <td>161</td>\n",
       "      <td>Adventure, Fantasy</td>\n",
       "      <td>English</td>\n",
       "      <td>Nominated for 3 Oscars. Another 18 wins &amp; 87 n...</td>\n",
       "      <td>7.8</td>\n",
       "      <td>588164</td>\n",
       "      <td>tt1170358</td>\n",
       "      <td>movie</td>\n",
       "      <td>Warner Bros.</td>\n",
       "      <td>250000000</td>\n",
       "      <td>958400000</td>\n",
       "      <td>283.36</td>\n",
       "    </tr>\n",
       "  </tbody>\n",
       "</table>\n",
       "</div>"
      ],
      "text/plain": [
       "                                      Title  Year  Rated     Released  \\\n",
       "492                           The Lion King  2019     PG  19 Jul 2019   \n",
       "160  Harry Potter and the Half-Blood Prince  2009     PG  15 Jul 2009   \n",
       "188     The Hobbit: The Desolation of Smaug  2013  PG-13  13 Dec 2013   \n",
       "\n",
       "     Runtime                                         Genre  \\\n",
       "492      118  Animation, Adventure, Drama, Family, Musical   \n",
       "160      153   Action, Adventure, Family, Fantasy, Mystery   \n",
       "188      161                            Adventure, Fantasy   \n",
       "\n",
       "                                  Language  \\\n",
       "492  English, Xhosa, Zulu, French, Spanish   \n",
       "160                                English   \n",
       "188                                English   \n",
       "\n",
       "                                                Awards  imdbRating  imdbVotes  \\\n",
       "492  Nominated for 1 Oscar. Another 16 wins & 34 no...         6.9     194149   \n",
       "160  Nominated for 1 Oscar. Another 8 wins & 35 nom...         7.6     453636   \n",
       "188  Nominated for 3 Oscars. Another 18 wins & 87 n...         7.8     588164   \n",
       "\n",
       "        imdbID   Type             Production     Budget     Revenue    ROI%  \n",
       "492  tt6105098  movie   Walt Disney Pictures  260000000  1656943394  537.29  \n",
       "160  tt0417741  movie  Warner Bros. Pictures  250000000   933959197  273.58  \n",
       "188  tt1170358  movie           Warner Bros.  250000000   958400000  283.36  "
      ]
     },
     "execution_count": 5,
     "metadata": {},
     "output_type": "execute_result"
    }
   ],
   "source": [
    "# Get movies with highest Budget, ROI\n",
    "movie_df.nlargest(3, 'Budget')"
   ]
  },
  {
   "cell_type": "code",
   "execution_count": 6,
   "metadata": {},
   "outputs": [
    {
     "data": {
      "text/html": [
       "<div>\n",
       "<style scoped>\n",
       "    .dataframe tbody tr th:only-of-type {\n",
       "        vertical-align: middle;\n",
       "    }\n",
       "\n",
       "    .dataframe tbody tr th {\n",
       "        vertical-align: top;\n",
       "    }\n",
       "\n",
       "    .dataframe thead th {\n",
       "        text-align: right;\n",
       "    }\n",
       "</style>\n",
       "<table border=\"1\" class=\"dataframe\">\n",
       "  <thead>\n",
       "    <tr style=\"text-align: right;\">\n",
       "      <th></th>\n",
       "      <th>Title</th>\n",
       "      <th>Year</th>\n",
       "      <th>Rated</th>\n",
       "      <th>Released</th>\n",
       "      <th>Runtime</th>\n",
       "      <th>Genre</th>\n",
       "      <th>Language</th>\n",
       "      <th>Awards</th>\n",
       "      <th>imdbRating</th>\n",
       "      <th>imdbVotes</th>\n",
       "      <th>imdbID</th>\n",
       "      <th>Type</th>\n",
       "      <th>Production</th>\n",
       "      <th>Budget</th>\n",
       "      <th>Revenue</th>\n",
       "      <th>ROI%</th>\n",
       "    </tr>\n",
       "  </thead>\n",
       "  <tbody>\n",
       "    <tr>\n",
       "      <th>389</th>\n",
       "      <td>Catfish</td>\n",
       "      <td>2010</td>\n",
       "      <td>PG-13</td>\n",
       "      <td>01 Oct 2010</td>\n",
       "      <td>87</td>\n",
       "      <td>Documentary, Drama, Mystery, Thriller</td>\n",
       "      <td>English</td>\n",
       "      <td>2 wins &amp; 7 nominations.</td>\n",
       "      <td>7.1</td>\n",
       "      <td>39522</td>\n",
       "      <td>tt1584016</td>\n",
       "      <td>movie</td>\n",
       "      <td>Universal Pictures/Rogue</td>\n",
       "      <td>30000</td>\n",
       "      <td>3045943</td>\n",
       "      <td>10053.14</td>\n",
       "    </tr>\n",
       "    <tr>\n",
       "      <th>408</th>\n",
       "      <td>The Full Monty</td>\n",
       "      <td>1997</td>\n",
       "      <td>R</td>\n",
       "      <td>19 Sep 1997</td>\n",
       "      <td>91</td>\n",
       "      <td>Comedy, Drama</td>\n",
       "      <td>English</td>\n",
       "      <td>Won 1 Oscar. Another 36 wins &amp; 34 nominations.</td>\n",
       "      <td>7.2</td>\n",
       "      <td>96582</td>\n",
       "      <td>tt0119164</td>\n",
       "      <td>movie</td>\n",
       "      <td>Twentieth Century Fox Home Entertainment</td>\n",
       "      <td>3500000</td>\n",
       "      <td>257850122</td>\n",
       "      <td>7267.15</td>\n",
       "    </tr>\n",
       "    <tr>\n",
       "      <th>273</th>\n",
       "      <td>Get Out</td>\n",
       "      <td>2017</td>\n",
       "      <td>R</td>\n",
       "      <td>24 Feb 2017</td>\n",
       "      <td>104</td>\n",
       "      <td>Horror, Mystery, Thriller</td>\n",
       "      <td>English</td>\n",
       "      <td>Won 1 Oscar. Another 152 wins &amp; 201 nominations.</td>\n",
       "      <td>7.7</td>\n",
       "      <td>463872</td>\n",
       "      <td>tt5052448</td>\n",
       "      <td>movie</td>\n",
       "      <td>Universal Pictures</td>\n",
       "      <td>4500000</td>\n",
       "      <td>255407969</td>\n",
       "      <td>5575.73</td>\n",
       "    </tr>\n",
       "  </tbody>\n",
       "</table>\n",
       "</div>"
      ],
      "text/plain": [
       "              Title  Year  Rated     Released  Runtime  \\\n",
       "389         Catfish  2010  PG-13  01 Oct 2010       87   \n",
       "408  The Full Monty  1997      R  19 Sep 1997       91   \n",
       "273         Get Out  2017      R  24 Feb 2017      104   \n",
       "\n",
       "                                     Genre Language  \\\n",
       "389  Documentary, Drama, Mystery, Thriller  English   \n",
       "408                          Comedy, Drama  English   \n",
       "273              Horror, Mystery, Thriller  English   \n",
       "\n",
       "                                               Awards  imdbRating  imdbVotes  \\\n",
       "389                           2 wins & 7 nominations.         7.1      39522   \n",
       "408    Won 1 Oscar. Another 36 wins & 34 nominations.         7.2      96582   \n",
       "273  Won 1 Oscar. Another 152 wins & 201 nominations.         7.7     463872   \n",
       "\n",
       "        imdbID   Type                                Production   Budget  \\\n",
       "389  tt1584016  movie                  Universal Pictures/Rogue    30000   \n",
       "408  tt0119164  movie  Twentieth Century Fox Home Entertainment  3500000   \n",
       "273  tt5052448  movie                        Universal Pictures  4500000   \n",
       "\n",
       "       Revenue      ROI%  \n",
       "389    3045943  10053.14  \n",
       "408  257850122   7267.15  \n",
       "273  255407969   5575.73  "
      ]
     },
     "execution_count": 6,
     "metadata": {},
     "output_type": "execute_result"
    }
   ],
   "source": [
    "movie_df.nlargest(3, 'ROI%')"
   ]
  },
  {
   "cell_type": "markdown",
   "metadata": {},
   "source": [
    "# Plotting the Data"
   ]
  },
  {
   "cell_type": "code",
   "execution_count": 7,
   "metadata": {},
   "outputs": [
    {
     "data": {
      "image/png": "[encoded data removed]",
      "text/plain": [
       "<Figure size 720x720 with 9 Axes>"
      ]
     },
     "metadata": {
      "needs_background": "light"
     },
     "output_type": "display_data"
    }
   ],
   "source": [
    "# Look at histograms to get idea of how variables are distrubuted (overall)\n",
    "movie_df.hist(color='Darkblue',figsize= (10,10));"
   ]
  },
  {
   "cell_type": "markdown",
   "metadata": {},
   "source": [
    "## Year vs. ROI Plot"
   ]
  },
  {
   "cell_type": "code",
   "execution_count": 8,
   "metadata": {},
   "outputs": [
    {
     "data": {
      "image/png": "[encoded data removed]",
      "text/plain": [
       "<Figure size 432x288 with 1 Axes>"
      ]
     },
     "metadata": {
      "needs_background": "light"
     },
     "output_type": "display_data"
    }
   ],
   "source": [
    "# Generate a scatter plot showing the year Vs. ROI\n",
    "plt.scatter(year,roi,edgecolors=\"black\",facecolors=\"blue\")\n",
    "plt.xlabel(\"Year\")\n",
    "plt.ylabel(\"ROI%\")\n",
    "plt.title(\"Year Vs. ROI%\")\n",
    "plt.grid(b = True, axis = \"both\", which = \"major\", linestyle=\"-\", color=\"lightgrey\")\n",
    "plt.savefig('figures/year_vs_ROI.png')\n",
    "plt.show()"
   ]
  },
  {
   "cell_type": "markdown",
   "metadata": {},
   "source": [
    "## Runtime vs. ROI"
   ]
  },
  {
   "cell_type": "code",
   "execution_count": 9,
   "metadata": {},
   "outputs": [
    {
     "data": {
      "image/png": "[encoded data removed]",
      "text/plain": [
       "<Figure size 432x288 with 1 Axes>"
      ]
     },
     "metadata": {
      "needs_background": "light"
     },
     "output_type": "display_data"
    }
   ],
   "source": [
    "# Generate a scatter plot showing the Runtime Vs. ROI\n",
    "x_values = [60, 200]\n",
    "y_values = [0, 0]\n",
    "plt.scatter(rtime,roi,edgecolors=\"black\",facecolors=\"blue\")\n",
    "plt.xlabel(\"Runtime\")\n",
    "plt.ylabel(\"ROI%\")\n",
    "plt.title(\"Runtime Vs. ROI%\")\n",
    "plt.ylim(-350, 4000)\n",
    "plt.plot(x_values, y_values, color='r')\n",
    "plt.savefig('figures/runtime_vs_ROI.png')\n",
    "plt.show()\n"
   ]
  },
  {
   "cell_type": "markdown",
   "metadata": {},
   "source": [
    "## Budget vs. ROI"
   ]
  },
  {
   "cell_type": "code",
   "execution_count": 10,
   "metadata": {},
   "outputs": [
    {
     "data": {
      "image/png": "[encoded data removed]",
      "text/plain": [
       "<Figure size 432x288 with 1 Axes>"
      ]
     },
     "metadata": {
      "needs_background": "light"
     },
     "output_type": "display_data"
    }
   ],
   "source": [
    "# Generate a scatter plot showing the Budget Vs. ROI\n",
    "x_values = [60, 200]\n",
    "y_values = [0, 0]\n",
    "plt.scatter(bud,roi,edgecolors=\"black\",facecolors=\"blue\")\n",
    "plt.xlabel('Budget')\n",
    "plt.ylabel('ROI%')\n",
    "plt.title('Budget Vs. ROI%')\n",
    "plt.ylim(-350, 4000)\n",
    "plt.plot(x_values, y_values, color='r')\n",
    "plt.savefig('figures/budget_vs_ROI.png')\n",
    "plt.show()"
   ]
  },
  {
   "cell_type": "markdown",
   "metadata": {},
   "source": [
    "## Revenue vs. ROI"
   ]
  },
  {
   "cell_type": "code",
   "execution_count": 11,
   "metadata": {},
   "outputs": [
    {
     "data": {
      "image/png": "[encoded data removed]",
      "text/plain": [
       "<Figure size 432x288 with 1 Axes>"
      ]
     },
     "metadata": {
      "needs_background": "light"
     },
     "output_type": "display_data"
    }
   ],
   "source": [
    "# Generate a scatter plot showing the Revenue Vs. ROI\n",
    "x_values = [60, 200]\n",
    "y_values = [0, 0]\n",
    "plt.scatter(rev,roi,edgecolors=\"black\",facecolors=\"blue\")\n",
    "plt.xlabel(\"Revenue\")\n",
    "plt.ylabel(\"ROI%\")\n",
    "plt.title(\"Revenue Vs. ROI%\")\n",
    "plt.ylim(-350, 4000)\n",
    "plt.plot(x_values, y_values, color='r')\n",
    "plt.savefig('figures/revenue_vs_ROI.png')\n",
    "plt.show()"
   ]
  },
  {
   "cell_type": "markdown",
   "metadata": {},
   "source": [
    "## Budget vs. Revenue"
   ]
  },
  {
   "cell_type": "code",
   "execution_count": null,
   "metadata": {},
   "outputs": [],
   "source": []
  }
 ],
 "metadata": {
  "kernelspec": {
   "display_name": "Python 3",
   "language": "python",
   "name": "python3"
  },
  "language_info": {
   "codemirror_mode": {
    "name": "ipython",
    "version": 3
   },
   "file_extension": ".py",
   "mimetype": "text/x-python",
   "name": "python",
   "nbconvert_exporter": "python",
   "pygments_lexer": "ipython3",
   "version": "3.6.10"
  }
 },
 "nbformat": 4,
 "nbformat_minor": 4
}
