{
 "cells": [
  {
   "cell_type": "code",
   "execution_count": 4,
   "metadata": {},
   "outputs": [],
   "source": [
    "# Set up Dependencies\n",
    "import matplotlib.pyplot as plt\n",
    "import pandas as pd\n",
    "import numpy as np\n",
    "import requests\n",
    "import time\n",
    "import csv\n",
    "import sys\n",
    "import os\n",
    "from scipy.stats import linregress\n",
    "from pprint import pprint\n",
    "from api_keys import api_key_omdb"
   ]
  },
  {
   "cell_type": "code",
   "execution_count": 16,
   "metadata": {},
   "outputs": [],
   "source": [
    "url = f\"http://www.omdbapi.com/?apikey={api_key_omdb}&\""
   ]
  },
  {
   "cell_type": "code",
   "execution_count": 20,
   "metadata": {},
   "outputs": [
    {
     "data": {
      "text/html": [
       "<div>\n",
       "<style scoped>\n",
       "    .dataframe tbody tr th:only-of-type {\n",
       "        vertical-align: middle;\n",
       "    }\n",
       "\n",
       "    .dataframe tbody tr th {\n",
       "        vertical-align: top;\n",
       "    }\n",
       "\n",
       "    .dataframe thead th {\n",
       "        text-align: right;\n",
       "    }\n",
       "</style>\n",
       "<table border=\"1\" class=\"dataframe\">\n",
       "  <thead>\n",
       "    <tr style=\"text-align: right;\">\n",
       "      <th></th>\n",
       "      <th>Title</th>\n",
       "      <th>Year</th>\n",
       "      <th>Rated</th>\n",
       "      <th>Released</th>\n",
       "      <th>Runtime</th>\n",
       "      <th>Genre</th>\n",
       "      <th>Language</th>\n",
       "      <th>Awards</th>\n",
       "      <th>Metascore</th>\n",
       "      <th>imdbRating</th>\n",
       "      <th>imdbVotes</th>\n",
       "      <th>imdbID</th>\n",
       "      <th>Type</th>\n",
       "      <th>BoxOffice</th>\n",
       "      <th>Production</th>\n",
       "    </tr>\n",
       "  </thead>\n",
       "  <tbody>\n",
       "    <tr>\n",
       "      <th>0</th>\n",
       "      <td>The Grand Budapest Hotel</td>\n",
       "      <td>2014</td>\n",
       "      <td>R</td>\n",
       "      <td>28 Mar 2014</td>\n",
       "      <td>99 min</td>\n",
       "      <td>Adventure, Comedy, Crime</td>\n",
       "      <td>English, French, German</td>\n",
       "      <td>Won 4 Oscars. Another 130 wins &amp; 225 nominations.</td>\n",
       "      <td>88</td>\n",
       "      <td>8.1</td>\n",
       "      <td>678,489</td>\n",
       "      <td>tt2278388</td>\n",
       "      <td>movie</td>\n",
       "      <td>$56,939,515</td>\n",
       "      <td>Fox Searchlight</td>\n",
       "    </tr>\n",
       "  </tbody>\n",
       "</table>\n",
       "</div>"
      ],
      "text/plain": [
       "                      Title  Year Rated     Released Runtime  \\\n",
       "0  The Grand Budapest Hotel  2014     R  28 Mar 2014  99 min   \n",
       "\n",
       "                      Genre                 Language  \\\n",
       "0  Adventure, Comedy, Crime  English, French, German   \n",
       "\n",
       "                                              Awards Metascore imdbRating  \\\n",
       "0  Won 4 Oscars. Another 130 wins & 225 nominations.        88        8.1   \n",
       "\n",
       "  imdbVotes     imdbID   Type    BoxOffice       Production  \n",
       "0   678,489  tt2278388  movie  $56,939,515  Fox Searchlight  "
      ]
     },
     "execution_count": 20,
     "metadata": {},
     "output_type": "execute_result"
    }
   ],
   "source": [
    "gbh_df = pd.DataFrame(columns = [\"Title\", \"Year\", \"Rated\",\"Released\", \"Runtime\",\n",
    "                         \"Genre\", \"Language\", \"Awards\", \"Metascore\", \"imdbRating\", \n",
    "                         \"imdbVotes\", \"imdbID\", \"Type\", \"BoxOffice\", \"Production\"])\n",
    "\n",
    "gbh_imdb = \"i=tt2278388\"\n",
    "#gbh = \"t=The Grand Budapest Hotel\"\n",
    "\n",
    "response_json = requests.get(url + gbh_imdb).json()\n",
    "movie_title = response_json['Title']\n",
    "year = response_json['Year']\n",
    "rated = response_json['Rated']\n",
    "released = response_json['Released']\n",
    "runtime = response_json['Runtime']\n",
    "genre = response_json['Genre']\n",
    "language = response_json['Language']\n",
    "awards = response_json['Awards']\n",
    "metascore = response_json['Metascore']\n",
    "imdb_rating = response_json['imdbRating']\n",
    "imdb_votes = response_json['imdbVotes']\n",
    "imdb_id = response_json['imdbID']\n",
    "type_m = response_json['Type']\n",
    "box_office = response_json['BoxOffice']\n",
    "production = response_json['Production']\n",
    "gbh_df = gbh_df.append({\"Title\": movie_title, \n",
    "                          \"Year\": year, \n",
    "                          \"Rated\": rated,\n",
    "                          \"Released\": released,\n",
    "                          \"Runtime\": runtime, \n",
    "                          \"Genre\": genre, \n",
    "                          \"Language\": language,\n",
    "                          \"Awards\": awards,\n",
    "                          \"Metascore\": metascore,\n",
    "                          \"imdbRating\": imdb_rating, \n",
    "                          \"imdbVotes\": imdb_votes,\n",
    "                          \"imdbID\": imdb_id,\n",
    "                          \"Type\": type_m,\n",
    "                          \"BoxOffice\": box_office,\n",
    "                          \"Production\": production}, ignore_index = True)\n",
    "\n",
    "gbh_df"
   ]
  },
  {
   "cell_type": "code",
   "execution_count": null,
   "metadata": {},
   "outputs": [],
   "source": []
  }
 ],
 "metadata": {
  "kernelspec": {
   "display_name": "Python [conda env:PythonData] *",
   "language": "python",
   "name": "conda-env-PythonData-py"
  },
  "language_info": {
   "codemirror_mode": {
    "name": "ipython",
    "version": 3
   },
   "file_extension": ".py",
   "mimetype": "text/x-python",
   "name": "python",
   "nbconvert_exporter": "python",
   "pygments_lexer": "ipython3",
   "version": "3.6.10"
  }
 },
 "nbformat": 4,
 "nbformat_minor": 4
}
