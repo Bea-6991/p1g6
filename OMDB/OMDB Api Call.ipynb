{
 "cells": [
  {
   "cell_type": "code",
   "execution_count": 1,
   "metadata": {},
   "outputs": [],
   "source": [
    "# Set up Dependencies\n",
    "import matplotlib.pyplot as plt\n",
    "import pandas as pd\n",
    "import numpy as np\n",
    "import requests\n",
    "import time\n",
    "import csv\n",
    "import sys\n",
    "import os\n",
    "from scipy.stats import linregress\n",
    "from pprint import pprint\n",
    "from api_keys import api_key_omdb"
   ]
  },
  {
   "cell_type": "code",
   "execution_count": 23,
   "metadata": {},
   "outputs": [],
   "source": [
    "url = f\"http://www.omdbapi.com/?apikey={api_key_omdb}&\""
   ]
  },
  {
   "cell_type": "code",
   "execution_count": 24,
   "metadata": {
    "scrolled": true
   },
   "outputs": [
    {
     "data": {
      "text/plain": [
       "{'Title': 'The Grand Budapest Hotel',\n",
       " 'Year': '2014',\n",
       " 'Rated': 'R',\n",
       " 'Released': '28 Mar 2014',\n",
       " 'Runtime': '99 min',\n",
       " 'Genre': 'Adventure, Comedy, Crime',\n",
       " 'Director': 'Wes Anderson',\n",
       " 'Writer': 'Stefan Zweig (inspired by the writings of), Wes Anderson (screenplay), Wes Anderson (story), Hugo Guinness (story)',\n",
       " 'Actors': 'Ralph Fiennes, F. Murray Abraham, Mathieu Amalric, Adrien Brody',\n",
       " 'Plot': \"A writer encounters the owner of an aging high-class hotel, who tells him of his early years serving as a lobby boy in the hotel's glorious years under an exceptional concierge.\",\n",
       " 'Language': 'English, French, German',\n",
       " 'Country': 'Germany, USA',\n",
       " 'Awards': 'Won 4 Oscars. Another 130 wins & 225 nominations.',\n",
       " 'Poster': 'https://m.media-amazon.com/images/M/MV5BMzM5NjUxOTEyMl5BMl5BanBnXkFtZTgwNjEyMDM0MDE@._V1_SX300.jpg',\n",
       " 'Ratings': [{'Source': 'Internet Movie Database', 'Value': '8.1/10'},\n",
       "  {'Source': 'Rotten Tomatoes', 'Value': '91%'},\n",
       "  {'Source': 'Metacritic', 'Value': '88/100'}],\n",
       " 'Metascore': '88',\n",
       " 'imdbRating': '8.1',\n",
       " 'imdbVotes': '678,489',\n",
       " 'imdbID': 'tt2278388',\n",
       " 'Type': 'movie',\n",
       " 'DVD': '17 Jun 2014',\n",
       " 'BoxOffice': '$56,939,515',\n",
       " 'Production': 'Fox Searchlight',\n",
       " 'Website': 'N/A',\n",
       " 'Response': 'True'}"
      ]
     },
     "execution_count": 24,
     "metadata": {},
     "output_type": "execute_result"
    }
   ],
   "source": [
    "# Make the API request with a json format return\n",
    "response_json = requests.get(url + \"i=tt2278388\").json()\n",
    "# pprint(response_json)\n",
    "response_json\n"
   ]
  },
  {
   "cell_type": "code",
   "execution_count": null,
   "metadata": {},
   "outputs": [],
   "source": [
    "lat_range = (-90, 90)\n",
    "lng_range = (-180, 180)\n",
    "\n",
    "# List for holding lat_lngs and cities\n",
    "lat_lngs = []\n",
    "cities = []\n",
    "np.random.seed(500)\n",
    "\n",
    "# Create a set of random lat and lng combinations\n",
    "lats = np.random.uniform(lat_range[0], lat_range[1], size=1500)\n",
    "lngs = np.random.uniform(lng_range[0], lng_range[1], size=1500)\n",
    "lat_lngs = zip(lats, lngs)\n",
    "\n",
    "# Identify nearest city for each lat, lng combination\n",
    "for lat_lng in lat_lngs:\n",
    "    city = citipy.nearest_city(lat_lng[0], lat_lng[1]).city_name\n",
    "    \n",
    "    # If the city is unique, then add it to a our cities list\n",
    "    if city not in cities:\n",
    "        cities.append(city)\n",
    "\n",
    "# Print the city count to confirm sufficient count\n",
    "len(cities)"
   ]
  },
  {
   "cell_type": "code",
   "execution_count": 17,
   "metadata": {},
   "outputs": [
    {
     "name": "stdout",
     "output_type": "stream",
     "text": [
      "Beginning Data Retrieval\n",
      "---------------------------\n"
     ]
    },
    {
     "ename": "NameError",
     "evalue": "name 'movies' is not defined",
     "output_type": "error",
     "traceback": [
      "\u001b[1;31m---------------------------------------------------------------------------\u001b[0m",
      "\u001b[1;31mNameError\u001b[0m                                 Traceback (most recent call last)",
      "\u001b[1;32m<ipython-input-17-60880a192440>\u001b[0m in \u001b[0;36m<module>\u001b[1;34m\u001b[0m\n\u001b[0;32m      8\u001b[0m \u001b[0mi\u001b[0m \u001b[1;33m=\u001b[0m \u001b[1;36m1\u001b[0m\u001b[1;33m\u001b[0m\u001b[1;33m\u001b[0m\u001b[0m\n\u001b[0;32m      9\u001b[0m \u001b[1;33m\u001b[0m\u001b[0m\n\u001b[1;32m---> 10\u001b[1;33m \u001b[1;32mfor\u001b[0m \u001b[0mmovie\u001b[0m \u001b[1;32min\u001b[0m \u001b[0mmovies\u001b[0m\u001b[1;33m:\u001b[0m\u001b[1;33m\u001b[0m\u001b[1;33m\u001b[0m\u001b[0m\n\u001b[0m\u001b[0;32m     11\u001b[0m     \u001b[0mprint\u001b[0m\u001b[1;33m(\u001b[0m\u001b[1;34mf\"Processing movie {i} | {movie}\"\u001b[0m\u001b[1;33m)\u001b[0m\u001b[1;33m\u001b[0m\u001b[1;33m\u001b[0m\u001b[0m\n\u001b[0;32m     12\u001b[0m     \u001b[1;32mtry\u001b[0m\u001b[1;33m:\u001b[0m\u001b[1;33m\u001b[0m\u001b[1;33m\u001b[0m\u001b[0m\n",
      "\u001b[1;31mNameError\u001b[0m: name 'movies' is not defined"
     ]
    }
   ],
   "source": [
    "#city = cities[0]\n",
    "movies_df = pd.DataFrame(columns = [\"Title\", \"Year\", \"Rated\",\"Released\", \"Runtime\",\n",
    "                         \"Genre\", \"Language\", \"Awards\", \"Metascore\", \"imdbRating\", \n",
    "                         \"imdbVotes\", \"imdbID\", \"Type\", \"BoxOffice\", \"Production\"])\n",
    "\n",
    "print(\"Beginning Data Retrieval\")\n",
    "print(\"---------------------------\")\n",
    "i = 1\n",
    "\n",
    "for movie in movies:\n",
    "    print(f\"Processing movie {i} | {movie}\")\n",
    "    try:\n",
    "        response_json = requests.get(base_url + city).json()\n",
    "        movie_title = response_json['Title']\n",
    "        year = response_json['Year']\n",
    "        rated = response_json['Rated']\n",
    "        released = response_json['Released']\n",
    "        runtime = response_json['Runtime']\n",
    "        genre = response_json['Genre']\n",
    "        language = response_json['Language']\n",
    "        awards = response_json['Awards']\n",
    "        metascore = response_json['Metascore']\n",
    "        imdb_rating = response_json['imdbRating']\n",
    "        imdb_votes = response_json['imdbVotes']\n",
    "        imdb_id = response_json['imdbID']\n",
    "        type_m = response_json['Type']\n",
    "        box_office = response_json['BoxOffice']\n",
    "        production = response_json['Production']\n",
    "        movies_df =movies_df.append({\"Title\": movie_title, \n",
    "                          \"Year\": year, \n",
    "                          \"Rated\": rated,\n",
    "                          \"Released\": released,\n",
    "                          \"Runtime\": runtime, \n",
    "                          \"Genre\": genre, \n",
    "                          \"Language\": language,\n",
    "                          \"Awards\": awards,\n",
    "                          \"Metascore\": metascore,\n",
    "                          \"imdbRating\": imdb_rating, \n",
    "                          \"imdbVotes\": imdb_votes,\n",
    "                          \"imdbID\": imdb_id,\n",
    "                          \"Type\": type_m,\n",
    "                          \"BoxOffice\": box_office,\n",
    "                          \"Production\": production}, ignore_index = True)\n",
    "    except:\n",
    "        print(\"Movie not found. Skipping...\")\n",
    "        pass\n",
    "    i += 1"
   ]
  },
  {
   "cell_type": "code",
   "execution_count": null,
   "metadata": {},
   "outputs": [],
   "source": [
    "# Output File (CSV)\n",
    "output_data_file = \"OMDB/movies_omdb.csv\"\n",
    "\n",
    "# Open the csv file for writing\n",
    "with open(output_file_path, 'w', encoding='utf-8', newline='\\n') as csvfile:\n",
    "\n",
    "    # write the DataFrame data to the csv file\n",
    "    player_list_df.to_csv(csvfile, index=False)\n",
    "\n",
    "# Close the csv file\n",
    "csvfile.close()"
   ]
  }
 ],
 "metadata": {
  "kernelspec": {
   "display_name": "Python [conda env:PythonData] *",
   "language": "python",
   "name": "conda-env-PythonData-py"
  },
  "language_info": {
   "codemirror_mode": {
    "name": "ipython",
    "version": 3
   },
   "file_extension": ".py",
   "mimetype": "text/x-python",
   "name": "python",
   "nbconvert_exporter": "python",
   "pygments_lexer": "ipython3",
   "version": "3.6.10"
  }
 },
 "nbformat": 4,
 "nbformat_minor": 4
}
