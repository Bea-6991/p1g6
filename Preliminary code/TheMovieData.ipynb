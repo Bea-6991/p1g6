{
 "cells": [
  {
   "cell_type": "markdown",
   "metadata": {},
   "source": [
    "# Pulling Budget Information"
   ]
  },
  {
   "cell_type": "code",
   "execution_count": 1,
   "metadata": {},
   "outputs": [],
   "source": [
    "# Set up Dependencies\n",
    "import matplotlib.pyplot as plt\n",
    "import pandas as pd\n",
    "import numpy as np\n",
    "import requests\n",
    "import time\n",
    "import csv\n",
    "import sys\n",
    "import os\n",
    "from scipy.stats import linregress\n",
    "from pprint import pprint\n",
    "from api_keys import TMDB_key"
   ]
  },
  {
   "cell_type": "code",
   "execution_count": 2,
   "metadata": {},
   "outputs": [
    {
     "data": {
      "text/plain": [
       "{'adult': False,\n",
       " 'backdrop_path': '/pCUdYAaarKqY2AAUtV6xXYO8UGY.jpg',\n",
       " 'belongs_to_collection': None,\n",
       " 'budget': 63000000,\n",
       " 'genres': [{'id': 18, 'name': 'Drama'}],\n",
       " 'homepage': 'http://www.foxmovies.com/movies/fight-club',\n",
       " 'id': 550,\n",
       " 'imdb_id': 'tt0137523',\n",
       " 'original_language': 'en',\n",
       " 'original_title': 'Fight Club',\n",
       " 'overview': 'A ticking-time-bomb insomniac and a slippery soap salesman channel primal male aggression into a shocking new form of therapy. Their concept catches on, with underground \"fight clubs\" forming in every town, until an eccentric gets in the way and ignites an out-of-control spiral toward oblivion.',\n",
       " 'popularity': 38.294,\n",
       " 'poster_path': '/bptfVGEQuv6vDTIMVCHjJ9Dz8PX.jpg',\n",
       " 'production_companies': [{'id': 508,\n",
       "   'logo_path': '/7PzJdsLGlR7oW4J0J5Xcd0pHGRg.png',\n",
       "   'name': 'Regency Enterprises',\n",
       "   'origin_country': 'US'},\n",
       "  {'id': 711,\n",
       "   'logo_path': '/tEiIH5QesdheJmDAqQwvtN60727.png',\n",
       "   'name': 'Fox 2000 Pictures',\n",
       "   'origin_country': 'US'},\n",
       "  {'id': 20555,\n",
       "   'logo_path': '/hD8yEGUBlHOcfHYbujp71vD8gZp.png',\n",
       "   'name': 'Taurus Film',\n",
       "   'origin_country': 'DE'},\n",
       "  {'id': 54051,\n",
       "   'logo_path': None,\n",
       "   'name': 'Atman Entertainment',\n",
       "   'origin_country': ''},\n",
       "  {'id': 54052,\n",
       "   'logo_path': None,\n",
       "   'name': 'Knickerbocker Films',\n",
       "   'origin_country': 'US'},\n",
       "  {'id': 25,\n",
       "   'logo_path': '/qZCc1lty5FzX30aOCVRBLzaVmcp.png',\n",
       "   'name': '20th Century Fox',\n",
       "   'origin_country': 'US'},\n",
       "  {'id': 4700,\n",
       "   'logo_path': '/A32wmjrs9Psf4zw0uaixF0GXfxq.png',\n",
       "   'name': 'The Linson Company',\n",
       "   'origin_country': ''}],\n",
       " 'production_countries': [{'iso_3166_1': 'DE', 'name': 'Germany'},\n",
       "  {'iso_3166_1': 'US', 'name': 'United States of America'}],\n",
       " 'release_date': '1999-10-15',\n",
       " 'revenue': 100853753,\n",
       " 'runtime': 139,\n",
       " 'spoken_languages': [{'iso_639_1': 'en', 'name': 'English'}],\n",
       " 'status': 'Released',\n",
       " 'tagline': 'Mischief. Mayhem. Soap.',\n",
       " 'title': 'Fight Club',\n",
       " 'video': False,\n",
       " 'vote_average': 8.4,\n",
       " 'vote_count': 19547}"
      ]
     },
     "execution_count": 2,
     "metadata": {},
     "output_type": "execute_result"
    }
   ],
   "source": [
    "\n",
    "\n",
    "url = 'https://api.themoviedb.org/3/find/'\n",
    "imdb = 'tt0137523'\n",
    "params = {'per_page': 100,\n",
    "          'api_key': TMDB_key,\n",
    "          'language': 'en-US',\n",
    "          'external_source': 'imdb_id',\n",
    "          'page':1}\n",
    "\n",
    "#Make the API request with a json format return\n",
    "response_json = requests.get(url + imdb, params=params).json()\n",
    "response_json\n",
    "\n",
    "id = response_json['movie_results'][0]['id']\n",
    "\n",
    "\n",
    "url_2 = f'https://api.themoviedb.org/3/movie/{id}'\n",
    "\n",
    "params2 = {'per_page': 100,\n",
    "          'api_key': TMDB_key,\n",
    "          'language': 'en-US',\n",
    "          'page':1}\n",
    "\n",
    "response_json2 = requests.get(url_2, params=params2).json()\n",
    "response_json2\n",
    "\n",
    "\n",
    "budget = response_json2['budget']\n",
    "imdb_id = response_json['imdb_id']\n",
    "revenue = response_json['revenue']\n",
    "\n",
    "\n"
   ]
  },
  {
   "cell_type": "code",
   "execution_count": null,
   "metadata": {},
   "outputs": [],
   "source": []
  }
 ],
 "metadata": {
  "kernelspec": {
   "display_name": "Python [conda env:PythonData] *",
   "language": "python",
   "name": "conda-env-PythonData-py"
  },
  "language_info": {
   "codemirror_mode": {
    "name": "ipython",
    "version": 3
   },
   "file_extension": ".py",
   "mimetype": "text/x-python",
   "name": "python",
   "nbconvert_exporter": "python",
   "pygments_lexer": "ipython3",
   "version": "3.6.10"
  }
 },
 "nbformat": 4,
 "nbformat_minor": 4
}
