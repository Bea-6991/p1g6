{
 "cells": [
  {
   "cell_type": "markdown",
   "metadata": {},
   "source": [
    "# Pulling Budget Information"
   ]
  },
  {
   "cell_type": "code",
   "execution_count": 1,
   "metadata": {},
   "outputs": [],
   "source": [
    "# Set up Dependencies\n",
    "import matplotlib.pyplot as plt\n",
    "import pandas as pd\n",
    "import numpy as np\n",
    "import requests\n",
    "import time\n",
    "import csv\n",
    "import sys\n",
    "import os\n",
    "from scipy.stats import linregress\n",
    "from pprint import pprint\n",
    "from api_keys import TMDB_key"
   ]
  },
  {
   "cell_type": "code",
   "execution_count": 10,
   "metadata": {},
   "outputs": [
    {
     "data": {
      "text/plain": [
       "63000000"
      ]
     },
     "execution_count": 10,
     "metadata": {},
     "output_type": "execute_result"
    }
   ],
   "source": [
    "\n",
    "\n",
    "url = 'https://api.themoviedb.org/3/find/'\n",
    "imdb = 'tt0137523'\n",
    "params = {'per_page': 100,\n",
    "          'api_key': TMDB_key,\n",
    "          'language': 'en-US',\n",
    "          'external_source': 'imdb_id',\n",
    "          'page':1}\n",
    "\n",
    "#Make the API request with a json format return\n",
    "response_json = requests.get(url + imdb, params=params).json()\n",
    "response_json\n",
    "\n",
    "id = response_json['movie_results'][0]['id']\n",
    "\n",
    "\n",
    "url_2 = f'https://api.themoviedb.org/3/movie/{id}'\n",
    "\n",
    "params2 = {'per_page': 100,\n",
    "          'api_key': TMDB_key,\n",
    "          'language': 'en-US',\n",
    "          'page':1}\n",
    "\n",
    "response_json2 = requests.get(url_2, params=params2).json()\n",
    "response_json2\n",
    "\n",
    "\n",
    "response_json2['budget']\n",
    "\n",
    "\n"
   ]
  },
  {
   "cell_type": "code",
   "execution_count": null,
   "metadata": {},
   "outputs": [],
   "source": []
  }
 ],
 "metadata": {
  "kernelspec": {
   "display_name": "Python [conda env:PythonData] *",
   "language": "python",
   "name": "conda-env-PythonData-py"
  },
  "language_info": {
   "codemirror_mode": {
    "name": "ipython",
    "version": 3
   },
   "file_extension": ".py",
   "mimetype": "text/x-python",
   "name": "python",
   "nbconvert_exporter": "python",
   "pygments_lexer": "ipython3",
   "version": "3.6.10"
  }
 },
 "nbformat": 4,
 "nbformat_minor": 4
}
